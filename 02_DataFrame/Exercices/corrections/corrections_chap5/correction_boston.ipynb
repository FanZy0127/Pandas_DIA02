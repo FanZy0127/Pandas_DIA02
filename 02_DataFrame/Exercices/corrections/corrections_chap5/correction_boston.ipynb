{
 "cells": [
  {
   "cell_type": "code",
   "execution_count": 6,
   "metadata": {
    "collapsed": true
   },
   "outputs": [
    {
     "data": {
      "text/plain": "                NAME           DEPARTMENT_NAME               TITLE  \\\n0  Williams,David C.  Boston Police Department      Police Officer   \n1      Earley,John W  Boston Police Department   Police Lieutenant   \n2   Bucelewicz,Helen  Boston Police Department      Police Officer   \n3    Evans,William B  Boston Police Department  Commissioner (Bpd)   \n4     Jones,Ronnie C  Boston Police Department      Police Officer   \n\n      REGULAR      RETRO       OTHER   OVERTIME   INJURED     DETAIL  \\\n0   95,184.68        NaN  503,025.78  45,176.88  5,307.62  24,610.00   \n1   26,130.54  13,001.47  204,120.61     668.36       NaN     440.00   \n2    8,676.89        NaN  200,000.00        NaN       NaN        NaN   \n3  149,999.93   3,461.56  165,858.44        NaN       NaN        NaN   \n4  462,149.98        NaN  114,973.46        NaN       NaN        NaN   \n\n  QUINN/EDUCATION INCENTIVE TOTAL EARNINGS POSTAL  \n0                  4,375.69     677,680.65  02356  \n1                  6,532.63     250,893.61  02131  \n2                       NaN     208,676.89  02135  \n3                       NaN     319,319.93  02127  \n4                       NaN     577,123.44  02126  ",
      "text/html": "<div>\n<style scoped>\n    .dataframe tbody tr th:only-of-type {\n        vertical-align: middle;\n    }\n\n    .dataframe tbody tr th {\n        vertical-align: top;\n    }\n\n    .dataframe thead th {\n        text-align: right;\n    }\n</style>\n<table border=\"1\" class=\"dataframe\">\n  <thead>\n    <tr style=\"text-align: right;\">\n      <th></th>\n      <th>NAME</th>\n      <th>DEPARTMENT_NAME</th>\n      <th>TITLE</th>\n      <th>REGULAR</th>\n      <th>RETRO</th>\n      <th>OTHER</th>\n      <th>OVERTIME</th>\n      <th>INJURED</th>\n      <th>DETAIL</th>\n      <th>QUINN/EDUCATION INCENTIVE</th>\n      <th>TOTAL EARNINGS</th>\n      <th>POSTAL</th>\n    </tr>\n  </thead>\n  <tbody>\n    <tr>\n      <th>0</th>\n      <td>Williams,David C.</td>\n      <td>Boston Police Department</td>\n      <td>Police Officer</td>\n      <td>95,184.68</td>\n      <td>NaN</td>\n      <td>503,025.78</td>\n      <td>45,176.88</td>\n      <td>5,307.62</td>\n      <td>24,610.00</td>\n      <td>4,375.69</td>\n      <td>677,680.65</td>\n      <td>02356</td>\n    </tr>\n    <tr>\n      <th>1</th>\n      <td>Earley,John W</td>\n      <td>Boston Police Department</td>\n      <td>Police Lieutenant</td>\n      <td>26,130.54</td>\n      <td>13,001.47</td>\n      <td>204,120.61</td>\n      <td>668.36</td>\n      <td>NaN</td>\n      <td>440.00</td>\n      <td>6,532.63</td>\n      <td>250,893.61</td>\n      <td>02131</td>\n    </tr>\n    <tr>\n      <th>2</th>\n      <td>Bucelewicz,Helen</td>\n      <td>Boston Police Department</td>\n      <td>Police Officer</td>\n      <td>8,676.89</td>\n      <td>NaN</td>\n      <td>200,000.00</td>\n      <td>NaN</td>\n      <td>NaN</td>\n      <td>NaN</td>\n      <td>NaN</td>\n      <td>208,676.89</td>\n      <td>02135</td>\n    </tr>\n    <tr>\n      <th>3</th>\n      <td>Evans,William B</td>\n      <td>Boston Police Department</td>\n      <td>Commissioner (Bpd)</td>\n      <td>149,999.93</td>\n      <td>3,461.56</td>\n      <td>165,858.44</td>\n      <td>NaN</td>\n      <td>NaN</td>\n      <td>NaN</td>\n      <td>NaN</td>\n      <td>319,319.93</td>\n      <td>02127</td>\n    </tr>\n    <tr>\n      <th>4</th>\n      <td>Jones,Ronnie C</td>\n      <td>Boston Police Department</td>\n      <td>Police Officer</td>\n      <td>462,149.98</td>\n      <td>NaN</td>\n      <td>114,973.46</td>\n      <td>NaN</td>\n      <td>NaN</td>\n      <td>NaN</td>\n      <td>NaN</td>\n      <td>577,123.44</td>\n      <td>02126</td>\n    </tr>\n  </tbody>\n</table>\n</div>"
     },
     "execution_count": 6,
     "metadata": {},
     "output_type": "execute_result"
    }
   ],
   "source": [
    "import pandas as pd\n",
    "\n",
    "# Boston pour la lecture préciser l'encodage utf8 afin d'éviter les problèmes de caractères\n",
    "# Nous reverrons\n",
    "boston = pd.read_csv('../../data/boston.csv', encoding=\"utf8\")\n",
    "\n",
    "# 1. Formatez les données de la colonne TOTAL EARNINGS pour les rendre compatibles avec un type numérique.\n",
    "\n",
    "# On supprime les lignes qui posent problèmes exploration des données et surtout la question posée nous oblige\n",
    "# à considérer le type des données.\n",
    "boston = boston[ boston['TOTAL EARNINGS'] != 'TOTAL EARNINGS' ]\n",
    "\n",
    "boston.head()"
   ]
  },
  {
   "cell_type": "code",
   "execution_count": 7,
   "outputs": [
    {
     "data": {
      "text/plain": "                NAME           DEPARTMENT_NAME               TITLE  \\\n0  Williams,David C.  Boston Police Department      Police Officer   \n1      Earley,John W  Boston Police Department   Police Lieutenant   \n2   Bucelewicz,Helen  Boston Police Department      Police Officer   \n3    Evans,William B  Boston Police Department  Commissioner (Bpd)   \n4     Jones,Ronnie C  Boston Police Department      Police Officer   \n\n      REGULAR      RETRO       OTHER   OVERTIME   INJURED     DETAIL  \\\n0   95,184.68        NaN  503,025.78  45,176.88  5,307.62  24,610.00   \n1   26,130.54  13,001.47  204,120.61     668.36       NaN     440.00   \n2    8,676.89        NaN  200,000.00        NaN       NaN        NaN   \n3  149,999.93   3,461.56  165,858.44        NaN       NaN        NaN   \n4  462,149.98        NaN  114,973.46        NaN       NaN        NaN   \n\n  QUINN/EDUCATION INCENTIVE  TOTAL EARNINGS POSTAL  \n0                  4,375.69       677680.65  02356  \n1                  6,532.63       250893.61  02131  \n2                       NaN       208676.89  02135  \n3                       NaN       319319.93  02127  \n4                       NaN       577123.44  02126  ",
      "text/html": "<div>\n<style scoped>\n    .dataframe tbody tr th:only-of-type {\n        vertical-align: middle;\n    }\n\n    .dataframe tbody tr th {\n        vertical-align: top;\n    }\n\n    .dataframe thead th {\n        text-align: right;\n    }\n</style>\n<table border=\"1\" class=\"dataframe\">\n  <thead>\n    <tr style=\"text-align: right;\">\n      <th></th>\n      <th>NAME</th>\n      <th>DEPARTMENT_NAME</th>\n      <th>TITLE</th>\n      <th>REGULAR</th>\n      <th>RETRO</th>\n      <th>OTHER</th>\n      <th>OVERTIME</th>\n      <th>INJURED</th>\n      <th>DETAIL</th>\n      <th>QUINN/EDUCATION INCENTIVE</th>\n      <th>TOTAL EARNINGS</th>\n      <th>POSTAL</th>\n    </tr>\n  </thead>\n  <tbody>\n    <tr>\n      <th>0</th>\n      <td>Williams,David C.</td>\n      <td>Boston Police Department</td>\n      <td>Police Officer</td>\n      <td>95,184.68</td>\n      <td>NaN</td>\n      <td>503,025.78</td>\n      <td>45,176.88</td>\n      <td>5,307.62</td>\n      <td>24,610.00</td>\n      <td>4,375.69</td>\n      <td>677680.65</td>\n      <td>02356</td>\n    </tr>\n    <tr>\n      <th>1</th>\n      <td>Earley,John W</td>\n      <td>Boston Police Department</td>\n      <td>Police Lieutenant</td>\n      <td>26,130.54</td>\n      <td>13,001.47</td>\n      <td>204,120.61</td>\n      <td>668.36</td>\n      <td>NaN</td>\n      <td>440.00</td>\n      <td>6,532.63</td>\n      <td>250893.61</td>\n      <td>02131</td>\n    </tr>\n    <tr>\n      <th>2</th>\n      <td>Bucelewicz,Helen</td>\n      <td>Boston Police Department</td>\n      <td>Police Officer</td>\n      <td>8,676.89</td>\n      <td>NaN</td>\n      <td>200,000.00</td>\n      <td>NaN</td>\n      <td>NaN</td>\n      <td>NaN</td>\n      <td>NaN</td>\n      <td>208676.89</td>\n      <td>02135</td>\n    </tr>\n    <tr>\n      <th>3</th>\n      <td>Evans,William B</td>\n      <td>Boston Police Department</td>\n      <td>Commissioner (Bpd)</td>\n      <td>149,999.93</td>\n      <td>3,461.56</td>\n      <td>165,858.44</td>\n      <td>NaN</td>\n      <td>NaN</td>\n      <td>NaN</td>\n      <td>NaN</td>\n      <td>319319.93</td>\n      <td>02127</td>\n    </tr>\n    <tr>\n      <th>4</th>\n      <td>Jones,Ronnie C</td>\n      <td>Boston Police Department</td>\n      <td>Police Officer</td>\n      <td>462,149.98</td>\n      <td>NaN</td>\n      <td>114,973.46</td>\n      <td>NaN</td>\n      <td>NaN</td>\n      <td>NaN</td>\n      <td>NaN</td>\n      <td>577123.44</td>\n      <td>02126</td>\n    </tr>\n  </tbody>\n</table>\n</div>"
     },
     "execution_count": 7,
     "metadata": {},
     "output_type": "execute_result"
    }
   ],
   "source": [
    "boston['TOTAL EARNINGS'] = boston['TOTAL EARNINGS'].str.replace(',', '')\n",
    "boston['TOTAL EARNINGS'] = boston['TOTAL EARNINGS'].astype(float)\n",
    "\n",
    "boston.head()"
   ],
   "metadata": {
    "collapsed": false,
    "pycharm": {
     "name": "#%%\n"
    }
   }
  },
  {
   "cell_type": "code",
   "execution_count": 16,
   "outputs": [
    {
     "data": {
      "text/plain": "DEPARTMENT_NAME\nBoston Police Department      684305.00\nSuperintendent                449065.20\nBoston Fire Department        259458.37\nInspectional Services Dept    250251.78\nJackson/Mann K-8              245465.59\nName: TOTAL EARNINGS, dtype: float64"
     },
     "execution_count": 16,
     "metadata": {},
     "output_type": "execute_result"
    }
   ],
   "source": [
    "# 2. Ordonnez les écarts par ordre décroissant.\n",
    "\n",
    "# On groupe traditionnellement les données puis on applique une fonction d'aggrégation.\n",
    "# Cela permet de garder dans une variable, qui est un objet, ici grouped_gain, les groupements pour d'autres\n",
    "# questions ou traitements sur les données.\n",
    "grouped_gain = boston.groupby('DEPARTMENT_NAME')['TOTAL EARNINGS']\n",
    "grouped_gain = grouped_gain.agg(lambda x : x.max() - x.min())\n",
    "grouped_gain.sort_values(ascending=False).head()"
   ],
   "metadata": {
    "collapsed": false,
    "pycharm": {
     "name": "#%%\n"
    }
   }
  }
 ],
 "metadata": {
  "kernelspec": {
   "display_name": "Python 3",
   "language": "python",
   "name": "python3"
  },
  "language_info": {
   "codemirror_mode": {
    "name": "ipython",
    "version": 2
   },
   "file_extension": ".py",
   "mimetype": "text/x-python",
   "name": "python",
   "nbconvert_exporter": "python",
   "pygments_lexer": "ipython2",
   "version": "2.7.6"
  }
 },
 "nbformat": 4,
 "nbformat_minor": 0
}