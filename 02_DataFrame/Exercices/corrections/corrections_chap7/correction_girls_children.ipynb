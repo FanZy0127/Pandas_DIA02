{
 "cells": [
  {
   "cell_type": "code",
   "execution_count": 9,
   "outputs": [
    {
     "name": "stdout",
     "output_type": "stream",
     "text": [
      "0.249674\n"
     ]
    },
    {
     "data": {
      "text/plain": "0.7495"
     },
     "execution_count": 9,
     "metadata": {},
     "output_type": "execute_result"
    }
   ],
   "source": [],
   "metadata": {
    "collapsed": false,
    "pycharm": {
     "name": "#%%\n"
    }
   }
  },
  {
   "cell_type": "markdown",
   "source": [
    "# Proba\n",
    "\n",
    "Nous étudions les familles ayant deux enfants exactement.\n",
    "\n",
    "## Questions\n",
    "-  1. L'enfant aîné est une fille. Quelle est la probabilité que les deux enfants soient des filles ?\n",
    "-  2. Au moins l'un des deux est une fille. Quelle est la probabilité que les deux enfants soient des filles ?\n",
    "\n",
    "----\n",
    "\n",
    "Avec un tableau on aurait respectivement pour les deux questions :\n",
    "- GB ou GG donc une chance sur 2 : 1/2\n",
    "- BG, GG, GB et donc : 1/3\n",
    "\n",
    "## Moralité\n",
    "\n",
    "Si on sait que au moins un des deux enfant est une fille alors on a plus de chances que\n",
    "le deuxième enfant soit une fille."
   ],
   "metadata": {
    "collapsed": false
   }
  },
  {
   "cell_type": "code",
   "execution_count": 12,
   "outputs": [],
   "source": [
    "import pandas as pd\n",
    "import numpy as np\n",
    "import matplotlib.pyplot as plt\n",
    "import seaborn as sns"
   ],
   "metadata": {
    "collapsed": false,
    "pycharm": {
     "name": "#%%\n"
    }
   }
  },
  {
   "cell_type": "code",
   "execution_count": 13,
   "outputs": [],
   "source": [
    "# Constantes\n",
    "# N nombre d'essai pour mon expérience\n",
    "NB_EXPERIENCE = 1_000\n",
    "NB_CHILD = 2\n",
    "PRECISION = 2"
   ],
   "metadata": {
    "collapsed": false,
    "pycharm": {
     "name": "#%%\n"
    }
   }
  },
  {
   "cell_type": "code",
   "execution_count": 14,
   "outputs": [],
   "source": [
    "# expérience\n",
    "\n",
    "# on lance les expériences\n",
    "def simulate(nb_exp = NB_EXPERIENCE):\n",
    "    both_girls = 0 # les deux sont des filles\n",
    "    older_girl = 0 # l'aîné est une fille\n",
    "    either_girl = 0 # au moins l'un des deux est une fille\n",
    "\n",
    "    for _ in range(nb_exp):\n",
    "        younger, older = np.random.choice(['girl', 'boy'], NB_CHILD)\n",
    "\n",
    "        #  Le nombre de familles dont l'ainé est une fille\n",
    "        if older == 'girl':\n",
    "            older_girl += 1\n",
    "\n",
    "         #  Le nombre de familles dont les deux enfants sont une fille\n",
    "        if older == 'girl' and younger == 'girl':\n",
    "            both_girls += 1\n",
    "\n",
    "         #  Le nombre de familles qui ont au moins une fille\n",
    "        if older == 'girl' or younger == 'girl':\n",
    "            either_girl += 1\n",
    "\n",
    "    return {\n",
    "        'pBothGirlsOlderGirl' : both_girls/older_girl ,\n",
    "        'pBothGirlEitherGirl' : both_girls/either_girl\n",
    "    }\n"
   ],
   "metadata": {
    "collapsed": false,
    "pycharm": {
     "name": "#%%\n"
    }
   }
  },
  {
   "cell_type": "code",
   "execution_count": 15,
   "outputs": [],
   "source": [
    "# On répète 1_000 de fois l'expérience que l'on vient de faire puis on la met dans une liste\n",
    "# et enfin dans un DataFrame.\n",
    "stat = []\n",
    "for s in [ simulate() for _ in range(1_000) ]:\n",
    "    stat.append([s['pBothGirlsOlderGirl'], s['pBothGirlEitherGirl']])"
   ],
   "metadata": {
    "collapsed": false,
    "pycharm": {
     "name": "#%%\n"
    }
   }
  },
  {
   "cell_type": "code",
   "execution_count": 16,
   "outputs": [
    {
     "data": {
      "text/plain": "(1000, 2)"
     },
     "execution_count": 16,
     "metadata": {},
     "output_type": "execute_result"
    }
   ],
   "source": [
    "np.array(stat).shape"
   ],
   "metadata": {
    "collapsed": false,
    "pycharm": {
     "name": "#%%\n"
    }
   }
  },
  {
   "cell_type": "code",
   "execution_count": 17,
   "outputs": [],
   "source": [
    "df_simulate = pd.DataFrame(np.array(stat), columns=['pBothGirlsOlderGirl', 'pBothGirlEitherGirl'])"
   ],
   "metadata": {
    "collapsed": false,
    "pycharm": {
     "name": "#%%\n"
    }
   }
  },
  {
   "cell_type": "code",
   "execution_count": 18,
   "outputs": [
    {
     "data": {
      "text/plain": "   pBothGirlsOlderGirl  pBothGirlEitherGirl\n0             0.470588             0.313725\n1             0.480315             0.314433\n2             0.515528             0.333333\n3             0.505112             0.322454\n4             0.497835             0.311231",
      "text/html": "<div>\n<style scoped>\n    .dataframe tbody tr th:only-of-type {\n        vertical-align: middle;\n    }\n\n    .dataframe tbody tr th {\n        vertical-align: top;\n    }\n\n    .dataframe thead th {\n        text-align: right;\n    }\n</style>\n<table border=\"1\" class=\"dataframe\">\n  <thead>\n    <tr style=\"text-align: right;\">\n      <th></th>\n      <th>pBothGirlsOlderGirl</th>\n      <th>pBothGirlEitherGirl</th>\n    </tr>\n  </thead>\n  <tbody>\n    <tr>\n      <th>0</th>\n      <td>0.470588</td>\n      <td>0.313725</td>\n    </tr>\n    <tr>\n      <th>1</th>\n      <td>0.480315</td>\n      <td>0.314433</td>\n    </tr>\n    <tr>\n      <th>2</th>\n      <td>0.515528</td>\n      <td>0.333333</td>\n    </tr>\n    <tr>\n      <th>3</th>\n      <td>0.505112</td>\n      <td>0.322454</td>\n    </tr>\n    <tr>\n      <th>4</th>\n      <td>0.497835</td>\n      <td>0.311231</td>\n    </tr>\n  </tbody>\n</table>\n</div>"
     },
     "execution_count": 18,
     "metadata": {},
     "output_type": "execute_result"
    }
   ],
   "source": [
    "df_simulate.head()"
   ],
   "metadata": {
    "collapsed": false,
    "pycharm": {
     "name": "#%%\n"
    }
   }
  },
  {
   "cell_type": "code",
   "execution_count": 19,
   "outputs": [
    {
     "data": {
      "text/plain": "<Figure size 640x480 with 2 Axes>",
      "image/png": "[encoded data removed]"
     },
     "metadata": {},
     "output_type": "display_data"
    }
   ],
   "source": [
    "ax = df_simulate.hist();"
   ],
   "metadata": {
    "collapsed": false,
    "pycharm": {
     "name": "#%%\n"
    }
   }
  },
  {
   "cell_type": "code",
   "execution_count": 20,
   "outputs": [
    {
     "name": "stdout",
     "output_type": "stream",
     "text": [
      "0.881\n"
     ]
    }
   ],
   "source": [
    "# Exemple sur une famille de 3 enfants\n",
    "\n",
    "NB_CHILD = 3\n",
    "N = 1_000\n",
    "all_girls = 0 # tous des filles\n",
    "older_girl = 0 # l'aîné est une fille\n",
    "either_girl = 0 # au moins l'un des deux est une fille\n",
    "\n",
    "for _ in range(N):\n",
    "        younger, middle, older = np.random.choice(['girl', 'boy'], NB_CHILD)\n",
    "\n",
    "        #  Le nombre de familles dont l'ainé est une fille\n",
    "        if older == 'girl':\n",
    "            older_girl += 1\n",
    "\n",
    "         #  Le nombre de familles dont les trois enfants sont une fille\n",
    "        if older == 'girl' and younger == 'girl' and middle == 'girl':\n",
    "            all_girls += 1\n",
    "\n",
    "         #  Le nombre de familles qui ont au moins une fille\n",
    "        if older == 'girl' or younger == 'girl' or middle == 'girl':\n",
    "            either_girl += 1\n",
    "\n",
    "print(either_girl/N)"
   ],
   "metadata": {
    "collapsed": false,
    "pycharm": {
     "name": "#%%\n"
    }
   }
  },
  {
   "cell_type": "code",
   "execution_count": 21,
   "outputs": [
    {
     "data": {
      "text/plain": "0.875"
     },
     "execution_count": 21,
     "metadata": {},
     "output_type": "execute_result"
    }
   ],
   "source": [
    "7/8"
   ],
   "metadata": {
    "collapsed": false,
    "pycharm": {
     "name": "#%%\n"
    }
   }
  }
 ],
 "metadata": {
  "kernelspec": {
   "display_name": "Python 3",
   "language": "python",
   "name": "python3"
  },
  "language_info": {
   "codemirror_mode": {
    "name": "ipython",
    "version": 2
   },
   "file_extension": ".py",
   "mimetype": "text/x-python",
   "name": "python",
   "nbconvert_exporter": "python",
   "pygments_lexer": "ipython2",
   "version": "2.7.6"
  }
 },
 "nbformat": 4,
 "nbformat_minor": 0
}