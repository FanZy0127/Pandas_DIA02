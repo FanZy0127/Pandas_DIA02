{
 "cells": [
  {
   "cell_type": "markdown",
   "metadata": {},
   "source": [
    "# Exercice naissances par département"
   ]
  },
  {
   "cell_type": "markdown",
   "metadata": {},
   "source": [
    "Faites une représentation en box-plot du nombre de naissances par habitant en fonction du département en Île-de-France en dehors de Paris. Et interprétez les données."
   ]
  },
  {
   "cell_type": "code",
   "execution_count": 3,
   "metadata": {},
   "outputs": [],
   "source": [
    "import pandas as pd\n",
    "import seaborn as sns\n",
    "import numpy as np\n",
    "import matplotlib.pyplot as plt"
   ]
  },
  {
   "cell_type": "code",
   "execution_count": 4,
   "metadata": {},
   "outputs": [
    {
     "name": "stderr",
     "output_type": "stream",
     "text": [
      "C:\\Users\\pc\\AppData\\Local\\Temp\\ipykernel_9612\\3985893086.py:2: DtypeWarning: Columns (0) have mixed types. Specify dtype option on import or set low_memory=False.\n",
      "  birth = pd.read_csv('./../../data/base_cc_comparateur.CSV', sep=\";\")\n"
     ]
    },
    {
     "data": {
      "text/plain": "  CODGEO  P19_POP  P13_POP  SUPERF  NAIS1319  DECE1319      P19_MEN  \\\n0  01001    779.0    767.0   15.95      54.0      31.0   316.115807   \n1  01002    256.0    236.0    9.15      24.0       6.0   105.603177   \n2  01004  14134.0  14359.0   24.60    1321.0     727.0  6606.346575   \n3  01005   1751.0   1635.0   15.92     111.0      51.0   723.196409   \n4  01006    112.0    108.0    5.88       7.0       7.0    53.963636   \n\n       P19_LOG       P19_RP  P19_RSECOCC  ...  ETGZ20  ETOQ20  ETTEF120  \\\n0   359.574602   316.115807    16.555731  ...     2.0     2.0      12.0   \n1   175.251661   105.603177    53.260606  ...     0.0     1.0       3.0   \n2  7452.835563  6606.346575   123.880736  ...   163.0    86.0     419.0   \n3   802.963326   723.196409     5.816338  ...     4.0     7.0      33.0   \n4    75.546970    53.963636    12.333333  ...     1.0     1.0       2.0   \n\n   NBMENFISC19  PIMP19  MED19  TP6019  NAISD21  DECESD21  ETTEFP1020  \n0          322       s  23970       s       12         5         0.0  \n1          113       s  23640       s        1         4         0.0  \n2         6711      56  20510      18      215       132       131.0  \n3          720       s  24050       s       41         9         5.0  \n4            s       s      s       s        1         0         0.0  \n\n[5 rows x 33 columns]",
      "text/html": "<div>\n<style scoped>\n    .dataframe tbody tr th:only-of-type {\n        vertical-align: middle;\n    }\n\n    .dataframe tbody tr th {\n        vertical-align: top;\n    }\n\n    .dataframe thead th {\n        text-align: right;\n    }\n</style>\n<table border=\"1\" class=\"dataframe\">\n  <thead>\n    <tr style=\"text-align: right;\">\n      <th></th>\n      <th>CODGEO</th>\n      <th>P19_POP</th>\n      <th>P13_POP</th>\n      <th>SUPERF</th>\n      <th>NAIS1319</th>\n      <th>DECE1319</th>\n      <th>P19_MEN</th>\n      <th>P19_LOG</th>\n      <th>P19_RP</th>\n      <th>P19_RSECOCC</th>\n      <th>...</th>\n      <th>ETGZ20</th>\n      <th>ETOQ20</th>\n      <th>ETTEF120</th>\n      <th>NBMENFISC19</th>\n      <th>PIMP19</th>\n      <th>MED19</th>\n      <th>TP6019</th>\n      <th>NAISD21</th>\n      <th>DECESD21</th>\n      <th>ETTEFP1020</th>\n    </tr>\n  </thead>\n  <tbody>\n    <tr>\n      <th>0</th>\n      <td>01001</td>\n      <td>779.0</td>\n      <td>767.0</td>\n      <td>15.95</td>\n      <td>54.0</td>\n      <td>31.0</td>\n      <td>316.115807</td>\n      <td>359.574602</td>\n      <td>316.115807</td>\n      <td>16.555731</td>\n      <td>...</td>\n      <td>2.0</td>\n      <td>2.0</td>\n      <td>12.0</td>\n      <td>322</td>\n      <td>s</td>\n      <td>23970</td>\n      <td>s</td>\n      <td>12</td>\n      <td>5</td>\n      <td>0.0</td>\n    </tr>\n    <tr>\n      <th>1</th>\n      <td>01002</td>\n      <td>256.0</td>\n      <td>236.0</td>\n      <td>9.15</td>\n      <td>24.0</td>\n      <td>6.0</td>\n      <td>105.603177</td>\n      <td>175.251661</td>\n      <td>105.603177</td>\n      <td>53.260606</td>\n      <td>...</td>\n      <td>0.0</td>\n      <td>1.0</td>\n      <td>3.0</td>\n      <td>113</td>\n      <td>s</td>\n      <td>23640</td>\n      <td>s</td>\n      <td>1</td>\n      <td>4</td>\n      <td>0.0</td>\n    </tr>\n    <tr>\n      <th>2</th>\n      <td>01004</td>\n      <td>14134.0</td>\n      <td>14359.0</td>\n      <td>24.60</td>\n      <td>1321.0</td>\n      <td>727.0</td>\n      <td>6606.346575</td>\n      <td>7452.835563</td>\n      <td>6606.346575</td>\n      <td>123.880736</td>\n      <td>...</td>\n      <td>163.0</td>\n      <td>86.0</td>\n      <td>419.0</td>\n      <td>6711</td>\n      <td>56</td>\n      <td>20510</td>\n      <td>18</td>\n      <td>215</td>\n      <td>132</td>\n      <td>131.0</td>\n    </tr>\n    <tr>\n      <th>3</th>\n      <td>01005</td>\n      <td>1751.0</td>\n      <td>1635.0</td>\n      <td>15.92</td>\n      <td>111.0</td>\n      <td>51.0</td>\n      <td>723.196409</td>\n      <td>802.963326</td>\n      <td>723.196409</td>\n      <td>5.816338</td>\n      <td>...</td>\n      <td>4.0</td>\n      <td>7.0</td>\n      <td>33.0</td>\n      <td>720</td>\n      <td>s</td>\n      <td>24050</td>\n      <td>s</td>\n      <td>41</td>\n      <td>9</td>\n      <td>5.0</td>\n    </tr>\n    <tr>\n      <th>4</th>\n      <td>01006</td>\n      <td>112.0</td>\n      <td>108.0</td>\n      <td>5.88</td>\n      <td>7.0</td>\n      <td>7.0</td>\n      <td>53.963636</td>\n      <td>75.546970</td>\n      <td>53.963636</td>\n      <td>12.333333</td>\n      <td>...</td>\n      <td>1.0</td>\n      <td>1.0</td>\n      <td>2.0</td>\n      <td>s</td>\n      <td>s</td>\n      <td>s</td>\n      <td>s</td>\n      <td>1</td>\n      <td>0</td>\n      <td>0.0</td>\n    </tr>\n  </tbody>\n</table>\n<p>5 rows × 33 columns</p>\n</div>"
     },
     "execution_count": 4,
     "metadata": {},
     "output_type": "execute_result"
    }
   ],
   "source": [
    "# On récupère le fichier de comparaison avec le chemin correspondant à votre machine, et avec le bon séparateur.\n",
    "birth = pd.read_csv('./../../data/base_cc_comparateur.CSV', sep=\";\")\n",
    "\n",
    "# CODGEO P19_POP NAISD21\n",
    "birth.head()"
   ]
  },
  {
   "cell_type": "code",
   "execution_count": 5,
   "metadata": {},
   "outputs": [
    {
     "data": {
      "text/plain": "  CODGEO  P19_POP  NAISD21\n0     01    779.0       12\n1     01    256.0        1\n2     01  14134.0      215\n3     01   1751.0       41\n4     01    112.0        1",
      "text/html": "<div>\n<style scoped>\n    .dataframe tbody tr th:only-of-type {\n        vertical-align: middle;\n    }\n\n    .dataframe tbody tr th {\n        vertical-align: top;\n    }\n\n    .dataframe thead th {\n        text-align: right;\n    }\n</style>\n<table border=\"1\" class=\"dataframe\">\n  <thead>\n    <tr style=\"text-align: right;\">\n      <th></th>\n      <th>CODGEO</th>\n      <th>P19_POP</th>\n      <th>NAISD21</th>\n    </tr>\n  </thead>\n  <tbody>\n    <tr>\n      <th>0</th>\n      <td>01</td>\n      <td>779.0</td>\n      <td>12</td>\n    </tr>\n    <tr>\n      <th>1</th>\n      <td>01</td>\n      <td>256.0</td>\n      <td>1</td>\n    </tr>\n    <tr>\n      <th>2</th>\n      <td>01</td>\n      <td>14134.0</td>\n      <td>215</td>\n    </tr>\n    <tr>\n      <th>3</th>\n      <td>01</td>\n      <td>1751.0</td>\n      <td>41</td>\n    </tr>\n    <tr>\n      <th>4</th>\n      <td>01</td>\n      <td>112.0</td>\n      <td>1</td>\n    </tr>\n  </tbody>\n</table>\n</div>"
     },
     "execution_count": 5,
     "metadata": {},
     "output_type": "execute_result"
    }
   ],
   "source": [
    "d = {\n",
    "    \"CODGEO\": birth[\"CODGEO\"].astype('str').str[:2], \n",
    "    \"P19_POP\": birth[\"P19_POP\"],\n",
    "    \"NAISD21\": birth[\"NAISD21\"]\n",
    "}\n",
    "\n",
    "df = pd.DataFrame(data=d)\n",
    "df.head()"
   ]
  },
  {
   "cell_type": "code",
   "execution_count": 6,
   "metadata": {},
   "outputs": [
    {
     "data": {
      "text/plain": "      CODGEO  P19_POP  NAISD21\n29969     77   1142.0       12\n29970     77    826.0       10\n29971     77    337.0        3\n29972     77    286.0        9\n29973     77   3281.0       39",
      "text/html": "<div>\n<style scoped>\n    .dataframe tbody tr th:only-of-type {\n        vertical-align: middle;\n    }\n\n    .dataframe tbody tr th {\n        vertical-align: top;\n    }\n\n    .dataframe thead th {\n        text-align: right;\n    }\n</style>\n<table border=\"1\" class=\"dataframe\">\n  <thead>\n    <tr style=\"text-align: right;\">\n      <th></th>\n      <th>CODGEO</th>\n      <th>P19_POP</th>\n      <th>NAISD21</th>\n    </tr>\n  </thead>\n  <tbody>\n    <tr>\n      <th>29969</th>\n      <td>77</td>\n      <td>1142.0</td>\n      <td>12</td>\n    </tr>\n    <tr>\n      <th>29970</th>\n      <td>77</td>\n      <td>826.0</td>\n      <td>10</td>\n    </tr>\n    <tr>\n      <th>29971</th>\n      <td>77</td>\n      <td>337.0</td>\n      <td>3</td>\n    </tr>\n    <tr>\n      <th>29972</th>\n      <td>77</td>\n      <td>286.0</td>\n      <td>9</td>\n    </tr>\n    <tr>\n      <th>29973</th>\n      <td>77</td>\n      <td>3281.0</td>\n      <td>39</td>\n    </tr>\n  </tbody>\n</table>\n</div>"
     },
     "execution_count": 6,
     "metadata": {},
     "output_type": "execute_result"
    }
   ],
   "source": [
    "mask = df[\"CODGEO\"].isin([\"77\",\"78\",\"91\",\"92\",\"93\",\"94\",\"95\"])\n",
    "df = df.drop(df[~mask].index)\n",
    "df.head()"
   ]
  },
  {
   "cell_type": "code",
   "execution_count": 7,
   "metadata": {},
   "outputs": [
    {
     "name": "stdout",
     "output_type": "stream",
     "text": [
      "      CODGEO  P19_POP  NAISD21  ratio\n",
      "29969     77   1142.0       12  10.51\n",
      "29970     77    826.0       10  12.11\n",
      "29971     77    337.0        3   8.90\n",
      "29972     77    286.0        9  31.47\n",
      "29973     77   3281.0       39  11.89\n"
     ]
    }
   ],
   "source": [
    "df[\"ratio\"] = np.round((df[\"NAISD21\"] / df[\"P19_POP\"]) * 1000, 2)\n",
    "\n",
    "print(df.head())"
   ]
  },
  {
   "cell_type": "code",
   "execution_count": 8,
   "metadata": {},
   "outputs": [
    {
     "data": {
      "text/plain": "             P19_POP      NAISD21        ratio\ncount    1267.000000  1267.000000  1267.000000\nmean     7969.314128   111.488556    11.773512\nstd     15574.701154   234.624504     5.373211\nmin        25.000000     0.000000     0.000000\n25%       549.000000     6.000000     8.585000\n50%      1346.000000    15.000000    11.540000\n75%      6717.000000    77.000000    14.615000\nmax    121583.000000  1929.000000    63.060000",
      "text/html": "<div>\n<style scoped>\n    .dataframe tbody tr th:only-of-type {\n        vertical-align: middle;\n    }\n\n    .dataframe tbody tr th {\n        vertical-align: top;\n    }\n\n    .dataframe thead th {\n        text-align: right;\n    }\n</style>\n<table border=\"1\" class=\"dataframe\">\n  <thead>\n    <tr style=\"text-align: right;\">\n      <th></th>\n      <th>P19_POP</th>\n      <th>NAISD21</th>\n      <th>ratio</th>\n    </tr>\n  </thead>\n  <tbody>\n    <tr>\n      <th>count</th>\n      <td>1267.000000</td>\n      <td>1267.000000</td>\n      <td>1267.000000</td>\n    </tr>\n    <tr>\n      <th>mean</th>\n      <td>7969.314128</td>\n      <td>111.488556</td>\n      <td>11.773512</td>\n    </tr>\n    <tr>\n      <th>std</th>\n      <td>15574.701154</td>\n      <td>234.624504</td>\n      <td>5.373211</td>\n    </tr>\n    <tr>\n      <th>min</th>\n      <td>25.000000</td>\n      <td>0.000000</td>\n      <td>0.000000</td>\n    </tr>\n    <tr>\n      <th>25%</th>\n      <td>549.000000</td>\n      <td>6.000000</td>\n      <td>8.585000</td>\n    </tr>\n    <tr>\n      <th>50%</th>\n      <td>1346.000000</td>\n      <td>15.000000</td>\n      <td>11.540000</td>\n    </tr>\n    <tr>\n      <th>75%</th>\n      <td>6717.000000</td>\n      <td>77.000000</td>\n      <td>14.615000</td>\n    </tr>\n    <tr>\n      <th>max</th>\n      <td>121583.000000</td>\n      <td>1929.000000</td>\n      <td>63.060000</td>\n    </tr>\n  </tbody>\n</table>\n</div>"
     },
     "execution_count": 8,
     "metadata": {},
     "output_type": "execute_result"
    }
   ],
   "source": [
    "df.describe()"
   ]
  },
  {
   "cell_type": "code",
   "execution_count": 9,
   "metadata": {},
   "outputs": [
    {
     "data": {
      "text/plain": "<Figure size 1000x1500 with 1 Axes>",
      "image/png": "[encoded data removed]"
     },
     "metadata": {},
     "output_type": "display_data"
    }
   ],
   "source": [
    "fig_dims = (10, 15)\n",
    "fig, ax = plt.subplots(figsize=fig_dims)\n",
    "\n",
    "sns.boxplot(x=\"CODGEO\", y=\"ratio\", data=df, showfliers=False);"
   ]
  },
  {
   "cell_type": "markdown",
   "metadata": {},
   "source": [
    "- Dans le 93, on peut voir que le nombre de naissances par habitants est beaucoup plus élevé que dans les autres départements\n",
    "\n",
    "- A part dans le 93, 50% des villes dans les autres départements ont un ratio compris entre 8 et 15 naissances pour 1000 habitants, en France, le taux de natalité est de 10,9 pour mille."
   ]
  }
 ],
 "metadata": {
  "interpreter": {
   "hash": "4b52a9fb8aa7f56888cd0504c8f09d44fbc44df365006ee9bb5c92e7fbc4e9be"
  },
  "kernelspec": {
   "display_name": "Python 3 (ipykernel)",
   "language": "python",
   "name": "python3"
  },
  "language_info": {
   "codemirror_mode": {
    "name": "ipython",
    "version": 3
   },
   "file_extension": ".py",
   "mimetype": "text/x-python",
   "name": "python",
   "nbconvert_exporter": "python",
   "pygments_lexer": "ipython3",
   "version": "3.9.7"
  }
 },
 "nbformat": 4,
 "nbformat_minor": 2
}